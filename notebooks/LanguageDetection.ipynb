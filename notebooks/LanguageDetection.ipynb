{
 "cells": [
  {
   "cell_type": "markdown",
   "metadata": {},
   "source": [
    "# Language detection in Python"
   ]
  },
  {
   "cell_type": "markdown",
   "metadata": {},
   "source": [
    "Language detection libraries used:\n",
    "* langdetect - https://pypi.python.org/pypi/langdetect\n",
    "* langid.py - https://github.com/saffsd/langid.py"
   ]
  },
  {
   "cell_type": "markdown",
   "metadata": {},
   "source": [
    "## Langdetect"
   ]
  },
  {
   "cell_type": "markdown",
   "metadata": {},
   "source": [
    "To detect the language of the text (Slovak):"
   ]
  },
  {
   "cell_type": "code",
   "execution_count": 1,
   "metadata": {},
   "outputs": [
    {
     "data": {
      "text/plain": [
       "'sk'"
      ]
     },
     "execution_count": 1,
     "metadata": {},
     "output_type": "execute_result"
    }
   ],
   "source": [
    "from langdetect import detect\n",
    "detect(\"Google, Inc. je spoločnosť so sídlom v Kalifornii v USA.\")"
   ]
  },
  {
   "cell_type": "markdown",
   "metadata": {},
   "source": [
    "To find out the probabilities for the top languages:"
   ]
  },
  {
   "cell_type": "code",
   "execution_count": 2,
   "metadata": {},
   "outputs": [
    {
     "data": {
      "text/plain": [
       "[en:0.5714278178312677, de:0.42857033997412247]"
      ]
     },
     "execution_count": 2,
     "metadata": {},
     "output_type": "execute_result"
    }
   ],
   "source": [
    "from langdetect import detect_langs\n",
    "detect_langs(\"Germany (Deutschland) is officially the Federal Republic of Germany (Bundesrepublik Deutschland).\")"
   ]
  },
  {
   "cell_type": "code",
   "execution_count": 3,
   "metadata": {},
   "outputs": [
    {
     "data": {
      "text/plain": [
       "[en:0.5714284841180953, de:0.4285715130511789]"
      ]
     },
     "execution_count": 3,
     "metadata": {},
     "output_type": "execute_result"
    }
   ],
   "source": [
    "detect_langs(\"Germany (Deutschland), the Federal Republic of Germany (Bundesrepublik Deutschland).\")"
   ]
  },
  {
   "cell_type": "markdown",
   "metadata": {},
   "source": [
    "** Langdetect works better with longer texts**\n",
    "\n",
    "Testing with longer czech text:"
   ]
  },
  {
   "cell_type": "code",
   "execution_count": 4,
   "metadata": {},
   "outputs": [
    {
     "name": "stdout",
     "output_type": "stream",
     "text": [
      "cs\n",
      "[cs:0.9999965325961008]\n"
     ]
    }
   ],
   "source": [
    "text = \"\"\"\n",
    "Logistická regrese je označení metody matematické statistiky \n",
    "zabývající se problematikou odhadu pravděpodobnosti nějakého \n",
    "jevu (závisle proměnné) na základě určitých známých skutečností \n",
    "(nezávisle proměnných), které mohou ovlivnit výskyt jevu. \n",
    "\n",
    "Událost, zda zkoumaný jev nastal, se modeluje pomocí náhodné veličiny, \n",
    "která nabývá hodnoty 0, pokud jev nenastal, nebo 1, \n",
    "pokud jev nastal (viz též charakteristická funkce). \n",
    "\"\"\"\n",
    "\n",
    "print(detect(text))\n",
    "print(detect_langs(text))"
   ]
  },
  {
   "cell_type": "markdown",
   "metadata": {},
   "source": [
    "## Langid.py"
   ]
  },
  {
   "cell_type": "code",
   "execution_count": 5,
   "metadata": {
    "collapsed": true
   },
   "outputs": [],
   "source": [
    "import langid"
   ]
  },
  {
   "cell_type": "markdown",
   "metadata": {},
   "source": [
    "To detect the language of the text (Slovak):"
   ]
  },
  {
   "cell_type": "code",
   "execution_count": 6,
   "metadata": {},
   "outputs": [
    {
     "data": {
      "text/plain": [
       "('sk', -131.58850479125977)"
      ]
     },
     "execution_count": 6,
     "metadata": {},
     "output_type": "execute_result"
    }
   ],
   "source": [
    "langid.classify(\"Google, Inc. je spoločnosť so sídlom v Kalifornii v USA.\")"
   ]
  },
  {
   "cell_type": "markdown",
   "metadata": {},
   "source": [
    "Detect longer czech text:"
   ]
  },
  {
   "cell_type": "code",
   "execution_count": 7,
   "metadata": {},
   "outputs": [
    {
     "data": {
      "text/plain": [
       "('cs', -1443.309737443924)"
      ]
     },
     "execution_count": 7,
     "metadata": {},
     "output_type": "execute_result"
    }
   ],
   "source": [
    "text = \"\"\"\n",
    "Logistická regrese je označení metody matematické statistiky \n",
    "zabývající se problematikou odhadu pravděpodobnosti nějakého \n",
    "jevu (závisle proměnné) na základě určitých známých skutečností \n",
    "(nezávisle proměnných), které mohou ovlivnit výskyt jevu. \n",
    "\n",
    "Událost, zda zkoumaný jev nastal, se modeluje pomocí náhodné veličiny, \n",
    "která nabývá hodnoty 0, pokud jev nenastal, nebo 1, \n",
    "pokud jev nastal (viz též charakteristická funkce). \n",
    "\"\"\"\n",
    "\n",
    "langid.classify(text)"
   ]
  },
  {
   "cell_type": "markdown",
   "metadata": {},
   "source": [
    "** Langid allows limiting the possible languages **"
   ]
  },
  {
   "cell_type": "code",
   "execution_count": 8,
   "metadata": {
    "collapsed": true
   },
   "outputs": [],
   "source": [
    "langid.set_languages(['en','sk'])"
   ]
  },
  {
   "cell_type": "markdown",
   "metadata": {},
   "source": [
    "This will cause it to skip German classification:"
   ]
  },
  {
   "cell_type": "code",
   "execution_count": 9,
   "metadata": {},
   "outputs": [
    {
     "data": {
      "text/plain": [
       "('en', -293.22873401641846)"
      ]
     },
     "execution_count": 9,
     "metadata": {},
     "output_type": "execute_result"
    }
   ],
   "source": [
    "langid.classify(\"Germany (Deutschland), the Federal Republic of Germany (Bundesrepublik Deutschland).\")"
   ]
  },
  {
   "cell_type": "code",
   "execution_count": null,
   "metadata": {
    "collapsed": true
   },
   "outputs": [],
   "source": []
  }
 ],
 "metadata": {
  "kernelspec": {
   "display_name": "Python [conda root]",
   "language": "python",
   "name": "conda-root-py"
  },
  "language_info": {
   "codemirror_mode": {
    "name": "ipython",
    "version": 3
   },
   "file_extension": ".py",
   "mimetype": "text/x-python",
   "name": "python",
   "nbconvert_exporter": "python",
   "pygments_lexer": "ipython3",
   "version": "3.5.3"
  }
 },
 "nbformat": 4,
 "nbformat_minor": 2
}
